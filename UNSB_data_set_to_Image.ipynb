{
  "cells": [
    {
      "cell_type": "markdown",
      "metadata": {
        "id": "view-in-github",
        "colab_type": "text"
      },
      "source": [
        "<a href=\"https://colab.research.google.com/github/SHKajal/UNSB-CNN/blob/main/UNSB_data_set_to_Image.ipynb\" target=\"_parent\"><img src=\"https://colab.research.google.com/assets/colab-badge.svg\" alt=\"Open In Colab\"/></a>"
      ]
    },
    {
      "cell_type": "code",
      "execution_count": null,
      "metadata": {
        "id": "VG0XiaAUyQj-"
      },
      "outputs": [],
      "source": [
        "import pandas as pd\n",
        "import numpy as np\n",
        "import math\n",
        "import PIL\n",
        "from PIL import Image\n",
        "from google.colab.patches import cv2_imshow"
      ]
    },
    {
      "cell_type": "code",
      "execution_count": null,
      "metadata": {
        "id": "MQ0CL-CfyYBp",
        "colab": {
          "base_uri": "https://localhost:8080/"
        },
        "outputId": "73a69592-b56e-47aa-bad0-c39ad2ca59cb"
      },
      "outputs": [
        {
          "output_type": "stream",
          "name": "stderr",
          "text": [
            "/usr/local/lib/python3.7/dist-packages/IPython/core/interactiveshell.py:3326: DtypeWarning: Columns (47) have mixed types.Specify dtype option on import or set low_memory=False.\n",
            "  exec(code_obj, self.user_global_ns, self.user_ns)\n"
          ]
        }
      ],
      "source": [
        "path = \"/content/drive/MyDrive/Papers C/Data Sets/Clean_UNSW-NB15_2.csv\"\n",
        "df = pd.read_csv(path)"
      ]
    },
    {
      "cell_type": "code",
      "execution_count": null,
      "metadata": {
        "id": "x9BqfTaTyiM6"
      },
      "outputs": [],
      "source": [
        "#columns = df.columns\n",
        "columns_ = ['sport', 'dsport', 'proto', 'state', 'dur', 'sbytes',\n",
        "       'dbytes', 'sttl', 'dttl', 'sloss', 'dloss', 'service', 'Sload', 'Dload',\n",
        "       'Spkts', 'Dpkts', 'swin', 'dwin', 'stcpb', 'dtcpb', 'smeansz',\n",
        "       'dmeansz', 'trans_depth', 'res_bdy_len', 'Sjit', 'Djit', 'Stime',\n",
        "       'Ltime', 'Sintpkt', 'Dintpkt', 'tcprtt', 'synack', 'ackdat',\n",
        "       'is_sm_ips_ports', 'ct_state_ttl', 'ct_flw_http_mthd', 'is_ftp_login',\n",
        "       'ct_ftp_cmd', 'ct_srv_src', 'ct_srv_dst', 'ct_dst_ltm', 'ct_src_ ltm',\n",
        "       'ct_src_dport_ltm', 'ct_dst_sport_ltm', 'ct_dst_src_ltm']\n",
        "#print(columns_)"
      ]
    },
    {
      "cell_type": "code",
      "execution_count": null,
      "metadata": {
        "id": "gfbfYF_SyuJg"
      },
      "outputs": [],
      "source": [
        "y = df['Label']\n",
        "x = df[columns_]"
      ]
    },
    {
      "cell_type": "code",
      "execution_count": null,
      "metadata": {
        "colab": {
          "base_uri": "https://localhost:8080/"
        },
        "id": "MuU-_efNyv8I",
        "outputId": "b0aac772-c35a-4cc3-c3f5-a4af0c5f6446"
      },
      "outputs": [
        {
          "output_type": "stream",
          "name": "stdout",
          "text": [
            "['vmtp', 'secure-vmtp', 'pvp', 'pri-enc', 'etherip', 'encap', 'micp', 'aes-sp3-d', 'br-sat-mon', 'ax.25', 'ipip', 'mtp', 'larp', 'wb-mon', 'sprite-rpc', 'tcf', 'eigrp', 'iso-ip', 'wb-expak', 'dgp', 'gmtp', 'vines', 'ttp', 'nsfnet-igp', 'aris', 'ifmp', 'pnni', 'fc', 'sps', 'pipe', 'iplt', 'sccopmce', 'crudp', 'crtp', 'fire', 'ptp', 'isis', 'smp', 'sm', 'uti', 'srp', 'stp', 'iatp', 'ddx', 'zero', 'l2tp', 'vrrp', 'pgm', 'ipx-n-ip', 'compaq-peer', 'snp', 'ipcomp', 'a/n', 'scps', 'qnx', 'cphb', 'wsn', 'kryptolan', 'ipcv', 'netblt', 'rdp', 'irtp', 'leaf-1', 'leaf-2', 'xns-idp', 'trunk-2', 'trunk-1', 'prm', 'hmp', 'dcn', 'mux', 'cbt', 'xnet', 'pup', 'nvp', 'igp', 'emcon', 'egp', 'chaos', 'bbn-rcc', 'argus', 'st2', 'ipnip', 'ip', 'ggp', 'cpnx', 'iso-tp4', 'mfe-nsp', 'bna', 'sat-mon', 'visa', 'rvd', 'ippc', 'sat-expak', 'cftp', 'ipv6-opts', 'ipv6-no', 'tlsp', 'skip', 'narp', 'merit-inp', 'i-nlsp', 'mhrp', 'idrp', 'ipv6-route', 'ipv6-frag', 'sdrp', 'il', 'tp++', 'idpr-cmtp', 'ddp', 'xtp', 'idpr', '3pc', 'ib', 'igmp', 'rtp', 'udt']\n"
          ]
        }
      ],
      "source": [
        "protocols = x['proto'].value_counts()\n",
        "protocol = []\n",
        "for key in protocols.keys():\n",
        "  #print(f'{key}------->{protocol_list[key]}')\n",
        "  if protocols[key] <= 43:\n",
        "    protocol.append(key)\n",
        "print(protocol)\n",
        "\n",
        "h = np.zeros(x.shape[0], dtype = object)\n",
        "\n",
        "for i in range(x.shape[0]):\n",
        "  if x.loc[i, 'proto'] in protocol:\n",
        "    h[i] = 'other'\n",
        "  else:\n",
        "    h[i] = x.loc[i, 'proto']"
      ]
    },
    {
      "cell_type": "code",
      "execution_count": null,
      "metadata": {
        "id": "4Ts8hs0zy22g",
        "colab": {
          "base_uri": "https://localhost:8080/"
        },
        "outputId": "0bbc34eb-77d6-4689-f35c-be4d216fdcac"
      },
      "outputs": [
        {
          "output_type": "stream",
          "name": "stderr",
          "text": [
            "/usr/local/lib/python3.7/dist-packages/pandas/core/generic.py:5516: SettingWithCopyWarning: \n",
            "A value is trying to be set on a copy of a slice from a DataFrame.\n",
            "Try using .loc[row_indexer,col_indexer] = value instead\n",
            "\n",
            "See the caveats in the documentation: https://pandas.pydata.org/pandas-docs/stable/user_guide/indexing.html#returning-a-view-versus-a-copy\n",
            "  self[name] = value\n"
          ]
        },
        {
          "output_type": "execute_result",
          "data": {
            "text/plain": [
              "tcp       455085\n",
              "udp       228563\n",
              "unas        4920\n",
              "other       4729\n",
              "arp         3361\n",
              "ospf        2215\n",
              "sctp         343\n",
              "any          123\n",
              "icmp          91\n",
              "gre           88\n",
              "ipv6          82\n",
              "rsvp          82\n",
              "mobile        64\n",
              "swipe         64\n",
              "sun-nd        64\n",
              "pim           64\n",
              "sep           62\n",
              "Name: proto, dtype: int64"
            ]
          },
          "metadata": {},
          "execution_count": 24
        }
      ],
      "source": [
        "x.proto = h\n",
        "x['proto'].value_counts()"
      ]
    },
    {
      "cell_type": "code",
      "source": [
        "z = np.zeros(x.shape[0], np.uint8)\n",
        "for i in range(10):\n",
        "  d = \"dummy_\" + str(i)\n",
        "  x[d] = z"
      ],
      "metadata": {
        "colab": {
          "base_uri": "https://localhost:8080/"
        },
        "id": "AB2jP0FKEEXL",
        "outputId": "36db3a28-0c34-44be-8a24-9b04b2fb3107"
      },
      "execution_count": null,
      "outputs": [
        {
          "output_type": "stream",
          "name": "stderr",
          "text": [
            "/usr/local/lib/python3.7/dist-packages/ipykernel_launcher.py:4: SettingWithCopyWarning: \n",
            "A value is trying to be set on a copy of a slice from a DataFrame.\n",
            "Try using .loc[row_indexer,col_indexer] = value instead\n",
            "\n",
            "See the caveats in the documentation: https://pandas.pydata.org/pandas-docs/stable/user_guide/indexing.html#returning-a-view-versus-a-copy\n",
            "  after removing the cwd from sys.path.\n"
          ]
        }
      ]
    },
    {
      "cell_type": "code",
      "source": [
        "x.iloc[0].shape"
      ],
      "metadata": {
        "colab": {
          "base_uri": "https://localhost:8080/"
        },
        "id": "G-NB7gVyFkhM",
        "outputId": "15657f3b-fd79-4e2d-f937-b75cf1d63922"
      },
      "execution_count": null,
      "outputs": [
        {
          "output_type": "execute_result",
          "data": {
            "text/plain": [
              "(55,)"
            ]
          },
          "metadata": {},
          "execution_count": 26
        }
      ]
    },
    {
      "cell_type": "code",
      "execution_count": null,
      "metadata": {
        "id": "O-r_EoUzy9GZ"
      },
      "outputs": [],
      "source": [
        "x = pd.get_dummies(x, columns=['proto'])\n",
        "x = pd.get_dummies(x, columns=['service'])\n",
        "x = pd.get_dummies(x, columns=['state'])\n",
        "x = pd.get_dummies(x, columns=['ct_ftp_cmd'])"
      ]
    },
    {
      "cell_type": "code",
      "execution_count": null,
      "metadata": {
        "id": "EYksuj8Uy_JY"
      },
      "outputs": [],
      "source": [
        "x = ((x - x.min()) / (x.max() - x.min()))*255"
      ]
    },
    {
      "cell_type": "code",
      "execution_count": null,
      "metadata": {
        "id": "oUi5vD8k0apI"
      },
      "outputs": [],
      "source": [
        "z = x\n",
        "z = z.fillna(0)\n",
        "z = z.astype(int)"
      ]
    },
    {
      "cell_type": "code",
      "execution_count": null,
      "metadata": {
        "colab": {
          "base_uri": "https://localhost:8080/",
          "height": 34
        },
        "id": "gM7cB2lS2fto",
        "outputId": "9d3c1766-71ea-4104-85ab-2a593c30f458"
      },
      "outputs": [
        {
          "output_type": "display_data",
          "data": {
            "text/plain": [
              "<PIL.Image.Image image mode=L size=10x10 at 0x7F338F82B050>"
            ],
            "image/png": "[encoded data removed]"
          },
          "metadata": {}
        }
      ],
      "source": [
        "type(z.iloc[0].to_numpy())\n",
        "k = z.iloc[0].to_numpy()\n",
        "k = k.reshape(10, 10)\n",
        "cv2_imshow(k)"
      ]
    },
    {
      "cell_type": "code",
      "execution_count": null,
      "metadata": {
        "id": "7QKM15bA1xoo"
      },
      "outputs": [],
      "source": [
        "path = \"/content/drive/MyDrive/Colab Notebooks/UNSW_IMAGES_2/\"\n",
        "for i in range(z.shape[0]):\n",
        "  k = z.iloc[i].to_numpy()\n",
        "  k = k.reshape(10, 10)\n",
        "  k = np.array(k, dtype=np.uint8)\n",
        "  img = Image.fromarray(k)\n",
        "  img.save(path+str(i)+\".jpg\")\n"
      ]
    }
  ],
  "metadata": {
    "colab": {
      "provenance": [],
      "mount_file_id": "1IvaTV7qmb-_-gCB2r9QtGDU0UyCFxsoy",
      "authorship_tag": "ABX9TyMcrZdGW9Gce6iDjAciLfLv",
      "include_colab_link": true
    },
    "kernelspec": {
      "display_name": "Python 3",
      "name": "python3"
    },
    "language_info": {
      "name": "python"
    }
  },
  "nbformat": 4,
  "nbformat_minor": 0
}