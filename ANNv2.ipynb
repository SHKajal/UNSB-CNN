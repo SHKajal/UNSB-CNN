{
  "nbformat": 4,
  "nbformat_minor": 0,
  "metadata": {
    "colab": {
      "provenance": [],
      "authorship_tag": "ABX9TyNqVFu+3QKaP9AAlJR+3HnJ",
      "include_colab_link": true
    },
    "kernelspec": {
      "name": "python3",
      "display_name": "Python 3"
    },
    "language_info": {
      "name": "python"
    }
  },
  "cells": [
    {
      "cell_type": "markdown",
      "metadata": {
        "id": "view-in-github",
        "colab_type": "text"
      },
      "source": [
        "<a href=\"https://colab.research.google.com/github/SHKajal/UNSB-CNN/blob/main/ANNv2.ipynb\" target=\"_parent\"><img src=\"https://colab.research.google.com/assets/colab-badge.svg\" alt=\"Open In Colab\"/></a>"
      ]
    },
    {
      "cell_type": "code",
      "execution_count": null,
      "metadata": {
        "id": "YEtB2b0y8lzh"
      },
      "outputs": [],
      "source": [
        "import numpy as np\n",
        "import pandas as pd"
      ]
    },
    {
      "cell_type": "code",
      "source": [
        "from google.colab import drive\n",
        "drive.mount('/content/drive', force_remount=True)"
      ],
      "metadata": {
        "colab": {
          "base_uri": "https://localhost:8080/"
        },
        "id": "HvgsaHOU8oGB",
        "outputId": "1d3dd5c8-4b0b-4706-fc28-dcb30261ba30"
      },
      "execution_count": null,
      "outputs": [
        {
          "output_type": "stream",
          "name": "stdout",
          "text": [
            "Mounted at /content/drive\n"
          ]
        }
      ]
    },
    {
      "cell_type": "code",
      "source": [
        "path_train = \"/content/drive/MyDrive/UNSW Datasets/a part of training and testing set/UNSW_NB15_training-set.csv\"\n",
        "path_test = \"/content/drive/MyDrive/UNSW Datasets/a part of training and testing set/UNSW_NB15_testing-set.csv\"\n",
        "\n",
        "df_train = pd.read_csv(path_train)\n",
        "df_test = pd.read_csv(path_test)\n",
        "\n",
        "df = pd.concat([df_train, df_test], axis = 0)"
      ],
      "metadata": {
        "id": "sx7QFSDF8uvr"
      },
      "execution_count": null,
      "outputs": []
    },
    {
      "cell_type": "code",
      "source": [
        "df.head(5)"
      ],
      "metadata": {
        "id": "gEnBD1Sk80YQ"
      },
      "execution_count": null,
      "outputs": []
    },
    {
      "cell_type": "code",
      "source": [
        "# df.isnull().sum() "
      ],
      "metadata": {
        "id": "OLI2YwE483ID"
      },
      "execution_count": null,
      "outputs": []
    },
    {
      "cell_type": "code",
      "source": [
        "df[df.label == 0].shape"
      ],
      "metadata": {
        "id": "daMv5Sh09Ehm"
      },
      "execution_count": null,
      "outputs": []
    },
    {
      "cell_type": "code",
      "source": [
        "df[df.label == 1].shape"
      ],
      "metadata": {
        "id": "blaLqvUV9JZp"
      },
      "execution_count": null,
      "outputs": []
    },
    {
      "cell_type": "code",
      "source": [
        "df_0 = df[df.label == 0]\n",
        "df_1 = df[df.label == 1]"
      ],
      "metadata": {
        "id": "QhN9SYrF-ccN"
      },
      "execution_count": null,
      "outputs": []
    },
    {
      "cell_type": "code",
      "source": [
        "df_0.reset_index(inplace = True)\n",
        "df_1.reset_index(inplace = True)"
      ],
      "metadata": {
        "id": "OTs5ckPKEEX7"
      },
      "execution_count": null,
      "outputs": []
    },
    {
      "cell_type": "code",
      "source": [
        "df_0 = df_0.drop(['index'], axis = 1)"
      ],
      "metadata": {
        "id": "FgQ1e8ODFAH0"
      },
      "execution_count": null,
      "outputs": []
    },
    {
      "cell_type": "markdown",
      "source": [
        "**Not Balacing **"
      ],
      "metadata": {
        "id": "MjCJdGV63eeA"
      }
    },
    {
      "cell_type": "code",
      "source": [
        "df_1 = df_1.loc[0 : 93000-1].drop(['index'], axis = 1)"
      ],
      "metadata": {
        "id": "3eobpu1yDIPT"
      },
      "execution_count": null,
      "outputs": []
    },
    {
      "cell_type": "code",
      "source": [
        "df_1.shape"
      ],
      "metadata": {
        "id": "8yyHeynCD39C"
      },
      "execution_count": null,
      "outputs": []
    },
    {
      "cell_type": "code",
      "source": [
        "df_0.shape"
      ],
      "metadata": {
        "id": "Nmof_G63X1Bk"
      },
      "execution_count": null,
      "outputs": []
    },
    {
      "cell_type": "code",
      "source": [],
      "metadata": {
        "id": "9NdEJjFfGFxr"
      },
      "execution_count": null,
      "outputs": []
    },
    {
      "cell_type": "markdown",
      "source": [
        "**Start**"
      ],
      "metadata": {
        "id": "uI0Z7-6DGMPv"
      }
    },
    {
      "cell_type": "code",
      "source": [
        "df = pd.concat([df_0, df_1], axis = 0)"
      ],
      "metadata": {
        "id": "hU32VfTJGO7f"
      },
      "execution_count": null,
      "outputs": []
    },
    {
      "cell_type": "code",
      "source": [
        "df = df.drop(['id', 'attack_cat'], axis = 1)"
      ],
      "metadata": {
        "id": "rZyCybs2Gc8w"
      },
      "execution_count": null,
      "outputs": []
    },
    {
      "cell_type": "code",
      "source": [
        "df"
      ],
      "metadata": {
        "id": "BGs4W_OxGdXF"
      },
      "execution_count": null,
      "outputs": []
    },
    {
      "cell_type": "code",
      "source": [
        "X = df.drop(['label'], axis = 1)\n",
        "y = df.label"
      ],
      "metadata": {
        "id": "-73KT3b_YprF"
      },
      "execution_count": null,
      "outputs": []
    },
    {
      "cell_type": "code",
      "source": [
        "X"
      ],
      "metadata": {
        "id": "1edtktOuY73z"
      },
      "execution_count": null,
      "outputs": []
    },
    {
      "cell_type": "code",
      "source": [
        "y"
      ],
      "metadata": {
        "id": "yzKu89vyZBBi"
      },
      "execution_count": null,
      "outputs": []
    },
    {
      "cell_type": "code",
      "source": [
        "X_columns = X.columns\n",
        "X_num_columns = X.describe().columns\n",
        "X_cat_columns = [col for col in X_columns if col not in X_num_columns]\n",
        "\n",
        "\n",
        "print(X_cat_columns)"
      ],
      "metadata": {
        "id": "j2O757JzGzXF"
      },
      "execution_count": null,
      "outputs": []
    },
    {
      "cell_type": "code",
      "source": [
        "# One Hot\n",
        "from sklearn.preprocessing import LabelEncoder,OneHotEncoder\n",
        "from sklearn.compose import make_column_transformer, make_column_selector\n",
        "\n",
        "# onehot_encoder = OneHotEncoder(drop='first')\n",
        "# transformer = make_column_transformer((OneHotEncoder(), make_column_selector(dtype_include=object)), remainder = \"passthrough\")\n",
        "transformer = make_column_transformer((OneHotEncoder(), X_cat_columns), remainder = \"passthrough\")\n",
        "transformed = transformer.fit_transform(X).toarray()\n",
        "\n",
        "print(\"DF\", X.shape)\n",
        "print(\"TF\", transformed.shape)\n",
        "print(X.columns.shape)\n",
        "print(transformer.get_feature_names_out().shape)\n",
        "\n",
        "tr_df = pd.DataFrame(transformed, columns = transformer.get_feature_names_out())\n",
        "\n",
        "print(\"tr_df shape: \", tr_df.shape)"
      ],
      "metadata": {
        "id": "AaonsSUPHCvw"
      },
      "execution_count": null,
      "outputs": []
    },
    {
      "cell_type": "code",
      "source": [
        "X = tr_df"
      ],
      "metadata": {
        "id": "JupoHpp3Heuy"
      },
      "execution_count": null,
      "outputs": []
    },
    {
      "cell_type": "code",
      "source": [
        "X.head()"
      ],
      "metadata": {
        "id": "Gvq8a2KeYNLZ"
      },
      "execution_count": null,
      "outputs": []
    },
    {
      "cell_type": "code",
      "source": [
        "X = (X - X.min()) / (X.max() - X.min())"
      ],
      "metadata": {
        "id": "v8Z1gKSuHho2"
      },
      "execution_count": null,
      "outputs": []
    },
    {
      "cell_type": "code",
      "source": [],
      "metadata": {
        "id": "aE_Gg4SCHwdn"
      },
      "execution_count": null,
      "outputs": []
    },
    {
      "cell_type": "code",
      "source": [
        "from sklearn.model_selection import train_test_split\n",
        "X_train, X_test, y_train, y_test = train_test_split(X, y, test_size=0.20, random_state=42, shuffle= True)"
      ],
      "metadata": {
        "id": "YyQlxGm8HywZ"
      },
      "execution_count": null,
      "outputs": []
    },
    {
      "cell_type": "code",
      "source": [
        "# from tensorflow import keras\n",
        "\n",
        "# model = keras.Sequential([\n",
        "#     keras.layers.Dense(75, input_shape=(X_train.shape[1],), activation='relu'),\n",
        "#     keras.layers.Dense(50, activation='relu'),\n",
        "#     keras.layers.Dense(30, activation='relu'),\n",
        "#     keras.layers.Dense(10, activation='relu'),\n",
        "#     keras.layers.Dense(1, activation='sigmoid'),\n",
        "# ])"
      ],
      "metadata": {
        "id": "p5xWlclDH3xc"
      },
      "execution_count": null,
      "outputs": []
    },
    {
      "cell_type": "code",
      "source": [
        "# import tensorflow as tf\n",
        "\n",
        "# model.compile(\n",
        "#     loss=tf.keras.losses.binary_crossentropy,  \n",
        "#     optimizer=tf.keras.optimizers.Adam(0.0001),\n",
        "#     metrics=['accuracy']\n",
        "# )"
      ],
      "metadata": {
        "id": "CQDID-P4H-CY"
      },
      "execution_count": null,
      "outputs": []
    },
    {
      "cell_type": "code",
      "source": [
        "# history = model.fit(X_train,y_train,epochs=20)"
      ],
      "metadata": {
        "id": "xroSsCi2IAqj"
      },
      "execution_count": null,
      "outputs": []
    },
    {
      "cell_type": "code",
      "source": [
        "# ev = model.evaluate(X_test, y_test)\n",
        "# print(ev)"
      ],
      "metadata": {
        "id": "oQ80WqT4Ij4w"
      },
      "execution_count": null,
      "outputs": []
    },
    {
      "cell_type": "code",
      "source": [
        "import math"
      ],
      "metadata": {
        "id": "7u-TzaT_dEq7"
      },
      "execution_count": null,
      "outputs": []
    },
    {
      "cell_type": "code",
      "source": [
        "from tensorflow import keras\n",
        "\n",
        "model2 = keras.Sequential([\n",
        "    keras.layers.Dense(X_train.shape[1]*2, input_shape=(X_train.shape[1],), activation='relu'),\n",
        "    keras.layers.Dense(math.floor(X_train.shape[1]*1.5), activation='relu'),\n",
        "    keras.layers.Dense(math.floor(X_train.shape[1]*1.5), activation='relu'),\n",
        "    keras.layers.Dense(math.floor(X_train.shape[1]*1), activation='relu'),\n",
        "    keras.layers.Dense(math.floor(X_train.shape[1]*0.995), activation='relu'),\n",
        "    keras.layers.Dense(math.floor(X_train.shape[1]*0.80), activation='relu'),\n",
        "    keras.layers.Dense(math.floor(X_train.shape[1]*0.75), activation='relu'),\n",
        "    keras.layers.Dense(math.floor(X_train.shape[1]*0.60), activation='relu'),\n",
        "    keras.layers.Dense(math.floor(X_train.shape[1]*0.50), activation='relu'),\n",
        "    keras.layers.Dense(math.floor(X_train.shape[1]*0.40), activation='relu'),\n",
        "    keras.layers.Dense(50, activation='relu'),\n",
        "    keras.layers.Dense(25, activation='relu'),\n",
        "    keras.layers.Dense(10, activation='relu'),\n",
        "    keras.layers.Dense(1, activation='sigmoid'),\n",
        "])\n",
        "\n",
        "\n",
        "\n",
        "import tensorflow as tf\n",
        "\n",
        "model2.compile(\n",
        "    loss=tf.keras.losses.binary_crossentropy,  \n",
        "    optimizer=tf.keras.optimizers.Nadam(0.0001),\n",
        "    metrics=['binary_accuracy']\n",
        ")\n",
        "\n",
        "\n",
        "\n",
        "history = model2.fit(X_train,y_train,epochs=100)"
      ],
      "metadata": {
        "id": "2GkmKyZbJJgq"
      },
      "execution_count": null,
      "outputs": []
    },
    {
      "cell_type": "code",
      "source": [
        "ev = model2.evaluate(X_test, y_test)\n",
        "print(ev)"
      ],
      "metadata": {
        "id": "GYJZQJdQJN5L"
      },
      "execution_count": null,
      "outputs": []
    },
    {
      "cell_type": "code",
      "source": [
        "import matplotlib.pyplot as plt\n",
        "from sklearn import metrics"
      ],
      "metadata": {
        "id": "7MHFH31VuhnP"
      },
      "execution_count": null,
      "outputs": []
    },
    {
      "cell_type": "code",
      "source": [
        "y_pred = model2.predict(X_test)\n",
        "\n",
        "print(y_pred)"
      ],
      "metadata": {
        "id": "fK3EMdusukZG"
      },
      "execution_count": null,
      "outputs": []
    },
    {
      "cell_type": "code",
      "source": [
        "model2.predict(X_test).round()"
      ],
      "metadata": {
        "id": "m-kcey9Nhz-u"
      },
      "execution_count": null,
      "outputs": []
    },
    {
      "cell_type": "code",
      "source": [
        "y_test"
      ],
      "metadata": {
        "id": "cdPVWIqhkbDg"
      },
      "execution_count": null,
      "outputs": []
    },
    {
      "cell_type": "code",
      "source": [
        "confusion_matrix = metrics.confusion_matrix(y_test, y_pred.round())\n",
        "\n",
        "cm_display = metrics.ConfusionMatrixDisplay(confusion_matrix = confusion_matrix, display_labels = [False, True])\n",
        "\n",
        "cm_display.plot()\n",
        "plt.show()"
      ],
      "metadata": {
        "id": "cK_K2aOb-uzS"
      },
      "execution_count": null,
      "outputs": []
    },
    {
      "cell_type": "code",
      "source": [
        "from sklearn.metrics import classification_report\n",
        "\n",
        "report = classification_report(y_test, y_pred.round())\n",
        "print(report)"
      ],
      "metadata": {
        "id": "fQqBsksiLhmp"
      },
      "execution_count": null,
      "outputs": []
    }
  ]
}